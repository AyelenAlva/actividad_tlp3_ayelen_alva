{
 "cells": [
  {
   "cell_type": "markdown",
   "id": "498731c6",
   "metadata": {},
   "source": [
    "# Actividad - Trabajando con Series de Pandas.\n",
    "## Criterios de evaluación.\n",
    "\n",
    "* Se deben utilizar nombres de variables descriptivos y claros (Utilizar la nomeclatura correspondiente para los nombres de variables).\n",
    "* Comentarios claros y concisos que expliquen el propósito de cada sección del código.\n",
    "* Utilizar mensajes de commit **descriptivos**. (Puedes utilizar la extension CONVENTIONAL COMMIT de VS-CODE). \n",
    "* Entrega en tiempo y forma.\n",
    "* Todo el código desarrollado debe ser subido a un repositorio en GitHub (el nombre del repositorio de seguir la siguiente estructura: actividad_tlp3_nombre_apellido).\n",
    "* Para resolver las actividades se debe insertar casillas de codigo entre cada actividad del cuaderno de Jupyter\n",
    "\n",
    "### ¡Importante!\n",
    "**El incumplimiento de los criterios de evaluación restará puntos en la nota final del práctico!**"
   ]
  },
  {
   "cell_type": "markdown",
   "id": "b361a7b6",
   "metadata": {},
   "source": [
    "### **Actividad 1:** \n",
    "\n",
    "Crear Series desde diferentes estructuras.\n",
    "* Crea una Series con los números del 1 al 5\n",
    "* Crea una Series a partir de un diccionario con nombres de países como claves y sus capitales como valores."
   ]
  },
  {
   "cell_type": "code",
   "execution_count": 3,
   "id": "26009294",
   "metadata": {},
   "outputs": [
    {
     "name": "stdout",
     "output_type": "stream",
     "text": [
      "Lista de números: [1, 2, 3, 4, 5]\n",
      "Diccionario de capitales:\n",
      "Argentina: Bs As\n",
      "Uruguay: Montevideo\n",
      "Paraguay: Asunción\n"
     ]
    }
   ],
   "source": [
    "\n",
    "# todo: serie de numero\n",
    "num = [1, 2, 3, 4, 5]\n",
    "print(\"Lista de números:\", num)\n",
    "\n",
    "capitales = {\n",
    "    \"Argentina\" : \"Bs As\",\n",
    "    \"Uruguay\" : \"Montevideo\",\n",
    "    \"Paraguay\": \"Asunción\"\n",
    "    }\n",
    "print(\"Diccionario de capitales:\")\n",
    "for pais, capital in capitales.items():\n",
    "    print(f\"{pais}: {capital}\")\n",
    "\n"
   ]
  },
  {
   "cell_type": "markdown",
   "id": "0c239195",
   "metadata": {},
   "source": [
    "### **Actividad 2:** \n",
    "Acceso y selección de elementos.\n",
    "* Usa una Series con tareas (que haceres cotidianos) de una semana\n",
    "* Accede a diferentes elementos a elección.\n",
    "* Cambia los valores de los dias pares.\n"
   ]
  },
  {
   "cell_type": "code",
   "execution_count": 5,
   "id": "3611d25a",
   "metadata": {},
   "outputs": [
    {
     "name": "stdout",
     "output_type": "stream",
     "text": [
      "Tareas originales de la semana:\n",
      "Lunes: Ir a clases\n",
      "Martes: Ir al gimnasio\n",
      "Miércoles: Salir con amigo\n",
      "Jueves: Estudiar Estadisticas\n",
      "Viernes: Salir con mi familia\n",
      "Sábado: Limpiar mi pieza\n",
      "Domingo: Descansar\n",
      "\n",
      "Tarea del Lunes: Ir a clases\n",
      "Tarea del Viernes: Salir con mi familia\n",
      "\n",
      "Tareas actualizadas de los días pares:\n",
      "Lunes: Ir a clases\n",
      "Martes: Leer una revista\n",
      "Miércoles: Salir con amigo\n",
      "Jueves: Ir a natacion\n",
      "Viernes: Salir con mi familia\n",
      "Sábado: Bañar a mis mascotas\n",
      "Domingo: Descansar\n"
     ]
    }
   ],
   "source": [
    "\n",
    "# todo:\n",
    "# tareas de la semana\n",
    "tareas_semana = {\n",
    "    'Lunes': 'Ir a clases',\n",
    "    'Martes': 'Ir al gimnasio',\n",
    "    'Miércoles': 'Salir con amigo',\n",
    "    'Jueves': 'Estudiar Estadisticas',\n",
    "    'Viernes': 'Salir con mi familia',\n",
    "    'Sábado': 'Limpiar mi pieza',\n",
    "    'Domingo': 'Descansar'\n",
    "}\n",
    "\n",
    "print(\"Tareas originales de la semana:\")\n",
    "for dia, tarea in tareas_semana.items():\n",
    "    print(f\"{dia}: {tarea}\")\n",
    "\n",
    "# Acceder a  elementos específicos\n",
    "print(\"\\nTarea del Lunes:\", tareas_semana['Lunes'])\n",
    "print(\"Tarea del Viernes:\", tareas_semana['Viernes'])\n",
    "\n",
    "# Cambiar los valores de los días pares\n",
    "tareas_semana['Martes'] = 'Leer una revista'\n",
    "tareas_semana['Jueves'] = 'Ir a natacion'\n",
    "tareas_semana['Sábado'] = 'Bañar a mis mascotas'\n",
    "\n",
    "# diccionario actualizado\n",
    "print(\"\\nTareas actualizadas de los días pares:\")\n",
    "for dia, tarea in tareas_semana.items():\n",
    "    print(f\"{dia}: {tarea}\")\n"
   ]
  },
  {
   "cell_type": "markdown",
   "id": "70a24b97",
   "metadata": {},
   "source": [
    "### **Actividad 3:**\n",
    "Operaciones aritméticas. \n",
    "* Realiza las operaciones basicas con 2 series cuales quieran.\n",
    "* Eleva los valores de la primer serie a 3 potencias difetentes."
   ]
  },
  {
   "cell_type": "code",
   "execution_count": 12,
   "id": "a9c8ebc7",
   "metadata": {},
   "outputs": [
    {
     "name": "stdout",
     "output_type": "stream",
     "text": [
      "Operaciones \n",
      "Suma: [3, 7, 11, 15, 19]\n",
      "Resta: [1, 1, 1, 1, 1]\n",
      "Multiplicacion: [2, 12, 30, 56, 90]\n",
      "Division: [2.0, 1.3333333333333333, 1.2, 1.1428571428571428, 1.1111111111111112]\n",
      "\n",
      "Potencias de la primera serie:\n",
      "Al cuadrado: [4, 16, 36, 64, 100]\n",
      "Al cubo: [8, 64, 216, 512, 1000]\n",
      "A la cuarta potencia: [16, 256, 1296, 4096, 10000]\n"
     ]
    }
   ],
   "source": [
    "\n",
    "# todo:\n",
    "serie1 = [ 2, 4, 6, 8, 10 ]\n",
    "serie2 = [ 1, 3, 5, 7, 9] \n",
    "\n",
    "# Operaciones  entre las dos listas\n",
    "suma = [a + b for a, b in zip(serie1, serie2)]\n",
    "resta = [a - b for a, b in zip(serie1, serie2)]\n",
    "multiplicacion = [a * b for a, b in zip(serie1, serie2)]\n",
    "division = [a / b for a, b in zip(serie1, serie2)]\n",
    "\n",
    "print(\"Operaciones \" ) \n",
    "print(\"Suma:\", suma )\n",
    "print(\"Resta:\", resta )\n",
    "print(\"Multiplicacion:\", multiplicacion )\n",
    "print(\"Division:\", division )\n",
    "\n",
    "\n",
    "# Elevar los valores de la primera serie \n",
    "\n",
    "potencia1 = [x ** 2 for x in serie1]\n",
    "potencia2 = [x ** 3 for x in serie1]\n",
    "potencia3 = [x ** 4 for x in serie1]\n",
    "\n",
    "print(\"\\nPotencias de la primera serie:\")\n",
    "print(\"Al cuadrado:\", potencia1 )\n",
    "print(\"Al cubo:\", potencia2)\n",
    "print(\"A la cuarta potencia:\", potencia3 )\n"
   ]
  },
  {
   "cell_type": "markdown",
   "id": "b8dac397",
   "metadata": {},
   "source": [
    "### **Actividad 4:** \n",
    "Filtrado con condiciones.\n",
    "* Crea una Series de edades de 10 personas.\n",
    "* Muestra solo a los mayores de 18.\n",
    "* Reemplaza a los menores por \"Menor de edad\"."
   ]
  },
  {
   "cell_type": "code",
   "execution_count": null,
   "id": "d04fd492",
   "metadata": {},
   "outputs": [],
   "source": [
    "\n",
    "# todo:"
   ]
  },
  {
   "cell_type": "markdown",
   "id": "8889d0f2",
   "metadata": {},
   "source": [
    "### Actividad 5:\n",
    "Estadísticas básicas.\n",
    "\n",
    "* Crea una Series con las notas de 10 estudiantes.\n",
    "* Calcula la media, mediana, desviación estándar y máximo.\n",
    "* Muestra cuántos estudiantes aprobaron si el mínimo para aprobar es 6.\n",
    "* Ordenar las notas de manera ascendente y descendente. "
   ]
  },
  {
   "cell_type": "code",
   "execution_count": null,
   "id": "bc0ec844",
   "metadata": {},
   "outputs": [],
   "source": [
    "\n",
    "# todo:\n"
   ]
  }
 ],
 "metadata": {
  "kernelspec": {
   "display_name": "Python 3",
   "language": "python",
   "name": "python3"
  },
  "language_info": {
   "codemirror_mode": {
    "name": "ipython",
    "version": 3
   },
   "file_extension": ".py",
   "mimetype": "text/x-python",
   "name": "python",
   "nbconvert_exporter": "python",
   "pygments_lexer": "ipython3",
   "version": "3.13.2"
  }
 },
 "nbformat": 4,
 "nbformat_minor": 5
}
